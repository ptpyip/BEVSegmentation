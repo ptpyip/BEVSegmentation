{
 "cells": [
  {
   "cell_type": "code",
   "execution_count": 1,
   "metadata": {},
   "outputs": [],
   "source": [
    "import yaml\n",
    "from pprint import pprint"
   ]
  },
  {
   "cell_type": "code",
   "execution_count": 2,
   "metadata": {},
   "outputs": [],
   "source": [
    "from mmcv import Config"
   ]
  },
  {
   "cell_type": "code",
   "execution_count": 5,
   "metadata": {},
   "outputs": [],
   "source": [
    "cfg = Config.fromfile(\"./projects/BEVSegFormer/configs/datasets/train_pipeline.yaml\")"
   ]
  },
  {
   "cell_type": "code",
   "execution_count": 1,
   "metadata": {},
   "outputs": [],
   "source": [
    "import mmsegBEV.datasets.builder"
   ]
  },
  {
   "cell_type": "code",
   "execution_count": 1,
   "metadata": {},
   "outputs": [],
   "source": [
    "class_names = [\n",
    "    'car', 'truck', 'construction_vehicle', 'bus', 'trailer', 'barrier',\n",
    "    'motorcycle', 'bicycle', 'pedestrian', 'traffic_cone'\n",
    "]\n",
    "dataset_type = 'CustomNuScenesDataset'\n",
    "data_root = 'data/nuscenes/'\n",
    "# Input modality for nuScenes dataset, this is consistent with the submission\n",
    "# format which requires the information in input_modality.\n",
    "input_modality = dict(\n",
    "    use_lidar=True,\n",
    "    use_camera=False,\n",
    "    use_radar=False,\n",
    "    use_map=False,\n",
    "    use_external=False)\n",
    "file_client_args = dict(backend='disk')\n",
    "load_dim = use_dim =5\n",
    "# Uncomment the following if use ceph or other file clients.\n",
    "# See https://mmcv.readthedocs.io/en/latest/api.html#mmcv.fileio.FileClient\n",
    "# for more details.\n",
    "# file_client_args = dict(\n",
    "#     backend='petrel',\n",
    "#     path_mapping=dict({\n",
    "#         './data/nuscenes/': 's3://nuscenes/nuscenes/',\n",
    "#         'data/nuscenes/': 's3://nuscenes/nuscenes/'\n",
    "#     }))\n",
    "\n",
    "\n",
    "_dim_ = 256\n",
    "_pos_dim_ = _dim_//2\n",
    "_ffn_dim_ = _dim_*2\n",
    "_num_levels_ = 4\n",
    "bev_h_ = 200\n",
    "bev_w_ = 200\n",
    "queue_length = 4 # each sequence contains `queue_length` frames.\n"
   ]
  },
  {
   "cell_type": "code",
   "execution_count": 2,
   "metadata": {},
   "outputs": [],
   "source": [
    "train=dict(\n",
    "        type=dataset_type,\n",
    "        data_root=data_root,\n",
    "        ann_file=data_root + 'nuscenes_infos_temporal_train.pkl',\n",
    "        pipeline=[],\n",
    "        classes=class_names,\n",
    "        modality=input_modality,\n",
    "        test_mode=False,\n",
    "        use_valid_flag=True,\n",
    "        bev_size=(bev_h_, bev_w_),\n",
    "        queue_length=queue_length,\n",
    "        # we use box_type_3d='LiDAR' in kitti and nuscenes dataset\n",
    "        # and box_type_3d='Depth' in sunrgbd and scannet dataset.\n",
    "        box_type_3d='LiDAR'),"
   ]
  },
  {
   "cell_type": "code",
   "execution_count": null,
   "metadata": {},
   "outputs": [],
   "source": [
    "from .mmsegBEV.datasets.nuscenes_dataset import NuScenesDataset"
   ]
  },
  {
   "cell_type": "code",
   "execution_count": 3,
   "metadata": {},
   "outputs": [
    {
     "name": "stdout",
     "output_type": "stream",
     "text": [
      "BEVSegmentation.projects.BEVFormerSeg.models\n"
     ]
    },
    {
     "ename": "ModuleNotFoundError",
     "evalue": "No module named 'BEVSegmentation'",
     "output_type": "error",
     "traceback": [
      "\u001b[0;31m---------------------------------------------------------------------------\u001b[0m",
      "\u001b[0;31mModuleNotFoundError\u001b[0m                       Traceback (most recent call last)",
      "Cell \u001b[0;32mIn[3], line 15\u001b[0m\n\u001b[1;32m     13\u001b[0m     _module_path \u001b[39m=\u001b[39m _module_path \u001b[39m+\u001b[39m \u001b[39m'\u001b[39m\u001b[39m.\u001b[39m\u001b[39m'\u001b[39m \u001b[39m+\u001b[39m m\n\u001b[1;32m     14\u001b[0m \u001b[39mprint\u001b[39m(_module_path)\n\u001b[0;32m---> 15\u001b[0m plg_lib \u001b[39m=\u001b[39m importlib\u001b[39m.\u001b[39;49mimport_module(_module_path)\n",
      "File \u001b[0;32m~/miniforge3/envs/MMLabEnv/lib/python3.8/importlib/__init__.py:127\u001b[0m, in \u001b[0;36mimport_module\u001b[0;34m(name, package)\u001b[0m\n\u001b[1;32m    125\u001b[0m             \u001b[39mbreak\u001b[39;00m\n\u001b[1;32m    126\u001b[0m         level \u001b[39m+\u001b[39m\u001b[39m=\u001b[39m \u001b[39m1\u001b[39m\n\u001b[0;32m--> 127\u001b[0m \u001b[39mreturn\u001b[39;00m _bootstrap\u001b[39m.\u001b[39;49m_gcd_import(name[level:], package, level)\n",
      "File \u001b[0;32m<frozen importlib._bootstrap>:1014\u001b[0m, in \u001b[0;36m_gcd_import\u001b[0;34m(name, package, level)\u001b[0m\n",
      "File \u001b[0;32m<frozen importlib._bootstrap>:991\u001b[0m, in \u001b[0;36m_find_and_load\u001b[0;34m(name, import_)\u001b[0m\n",
      "File \u001b[0;32m<frozen importlib._bootstrap>:961\u001b[0m, in \u001b[0;36m_find_and_load_unlocked\u001b[0;34m(name, import_)\u001b[0m\n",
      "File \u001b[0;32m<frozen importlib._bootstrap>:219\u001b[0m, in \u001b[0;36m_call_with_frames_removed\u001b[0;34m(f, *args, **kwds)\u001b[0m\n",
      "File \u001b[0;32m<frozen importlib._bootstrap>:1014\u001b[0m, in \u001b[0;36m_gcd_import\u001b[0;34m(name, package, level)\u001b[0m\n",
      "File \u001b[0;32m<frozen importlib._bootstrap>:991\u001b[0m, in \u001b[0;36m_find_and_load\u001b[0;34m(name, import_)\u001b[0m\n",
      "File \u001b[0;32m<frozen importlib._bootstrap>:961\u001b[0m, in \u001b[0;36m_find_and_load_unlocked\u001b[0;34m(name, import_)\u001b[0m\n",
      "File \u001b[0;32m<frozen importlib._bootstrap>:219\u001b[0m, in \u001b[0;36m_call_with_frames_removed\u001b[0;34m(f, *args, **kwds)\u001b[0m\n",
      "File \u001b[0;32m<frozen importlib._bootstrap>:1014\u001b[0m, in \u001b[0;36m_gcd_import\u001b[0;34m(name, package, level)\u001b[0m\n",
      "File \u001b[0;32m<frozen importlib._bootstrap>:991\u001b[0m, in \u001b[0;36m_find_and_load\u001b[0;34m(name, import_)\u001b[0m\n",
      "File \u001b[0;32m<frozen importlib._bootstrap>:961\u001b[0m, in \u001b[0;36m_find_and_load_unlocked\u001b[0;34m(name, import_)\u001b[0m\n",
      "File \u001b[0;32m<frozen importlib._bootstrap>:219\u001b[0m, in \u001b[0;36m_call_with_frames_removed\u001b[0;34m(f, *args, **kwds)\u001b[0m\n",
      "File \u001b[0;32m<frozen importlib._bootstrap>:1014\u001b[0m, in \u001b[0;36m_gcd_import\u001b[0;34m(name, package, level)\u001b[0m\n",
      "File \u001b[0;32m<frozen importlib._bootstrap>:991\u001b[0m, in \u001b[0;36m_find_and_load\u001b[0;34m(name, import_)\u001b[0m\n",
      "File \u001b[0;32m<frozen importlib._bootstrap>:973\u001b[0m, in \u001b[0;36m_find_and_load_unlocked\u001b[0;34m(name, import_)\u001b[0m\n",
      "\u001b[0;31mModuleNotFoundError\u001b[0m: No module named 'BEVSegmentation'"
     ]
    }
   ],
   "source": [
    "# import modules from plguin/xx, registry will be updated\n",
    "import importlib\n",
    "import os\n",
    "\n",
    "plugin_dir = \"BEVSegmentation/projects/BEVFormerSeg/models/\"\n",
    "                \n",
    "plugin_dir = plugin_dir\n",
    "_module_dir = os.path.dirname(plugin_dir)\n",
    "_module_dir = _module_dir.split('/')\n",
    "_module_path = _module_dir[0]\n",
    "\n",
    "for m in _module_dir[1:]:\n",
    "    _module_path = _module_path + '.' + m\n",
    "print(_module_path)\n",
    "plg_lib = importlib.import_module(_module_path)"
   ]
  },
  {
   "cell_type": "code",
   "execution_count": 2,
   "metadata": {},
   "outputs": [
    {
     "data": {
      "text/plain": [
       "{'EncoderDecoder': mmsegBEV.models.segmentors.encoder_decoder.EncoderDecoder,\n",
       " 'CascadeEncoderDecoder': mmsegBEV.models.segmentors.cascade_encoder_decoder.CascadeEncoderDecoder,\n",
       " 'MVBEVSegFormer': projects.BEVFormerSeg.models.BEVFormerSeg.MVBEVSegFormer}"
      ]
     },
     "execution_count": 2,
     "metadata": {},
     "output_type": "execute_result"
    }
   ],
   "source": [
    "from mmsegBEV.models import SEGMENTORS\n",
    "SEGMENTORS.module_dict"
   ]
  }
 ],
 "metadata": {
  "kernelspec": {
   "display_name": "base",
   "language": "python",
   "name": "python3"
  },
  "language_info": {
   "codemirror_mode": {
    "name": "ipython",
    "version": 3
   },
   "file_extension": ".py",
   "mimetype": "text/x-python",
   "name": "python",
   "nbconvert_exporter": "python",
   "pygments_lexer": "ipython3",
   "version": "3.8.16"
  },
  "orig_nbformat": 4
 },
 "nbformat": 4,
 "nbformat_minor": 2
}
