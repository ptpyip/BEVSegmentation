{
 "cells": [
  {
   "cell_type": "code",
   "execution_count": 1,
   "metadata": {},
   "outputs": [],
   "source": [
    "import yaml\n",
    "from pprint import pprint"
   ]
  },
  {
   "cell_type": "code",
   "execution_count": 2,
   "metadata": {},
   "outputs": [],
   "source": [
    "from mmcv import Config"
   ]
  },
  {
   "cell_type": "code",
   "execution_count": 5,
   "metadata": {},
   "outputs": [],
   "source": [
    "cfg = Config.fromfile(\"./projects/BEVSegFormer/configs/datasets/train_pipeline.yaml\")"
   ]
  },
  {
   "cell_type": "code",
   "execution_count": 1,
   "metadata": {},
   "outputs": [],
   "source": [
    "import mmsegBEV.datasets.builder"
   ]
  },
  {
   "cell_type": "code",
   "execution_count": 1,
   "metadata": {},
   "outputs": [],
   "source": [
    "class_names = [\n",
    "    'car', 'truck', 'construction_vehicle', 'bus', 'trailer', 'barrier',\n",
    "    'motorcycle', 'bicycle', 'pedestrian', 'traffic_cone'\n",
    "]\n",
    "dataset_type = 'CustomNuScenesDataset'\n",
    "data_root = 'data/nuscenes/'\n",
    "# Input modality for nuScenes dataset, this is consistent with the submission\n",
    "# format which requires the information in input_modality.\n",
    "input_modality = dict(\n",
    "    use_lidar=True,\n",
    "    use_camera=False,\n",
    "    use_radar=False,\n",
    "    use_map=False,\n",
    "    use_external=False)\n",
    "file_client_args = dict(backend='disk')\n",
    "load_dim = use_dim =5\n",
    "# Uncomment the following if use ceph or other file clients.\n",
    "# See https://mmcv.readthedocs.io/en/latest/api.html#mmcv.fileio.FileClient\n",
    "# for more details.\n",
    "# file_client_args = dict(\n",
    "#     backend='petrel',\n",
    "#     path_mapping=dict({\n",
    "#         './data/nuscenes/': 's3://nuscenes/nuscenes/',\n",
    "#         'data/nuscenes/': 's3://nuscenes/nuscenes/'\n",
    "#     }))\n",
    "\n",
    "\n",
    "_dim_ = 256\n",
    "_pos_dim_ = _dim_//2\n",
    "_ffn_dim_ = _dim_*2\n",
    "_num_levels_ = 4\n",
    "bev_h_ = 200\n",
    "bev_w_ = 200\n",
    "queue_length = 4 # each sequence contains `queue_length` frames.\n"
   ]
  },
  {
   "cell_type": "code",
   "execution_count": 2,
   "metadata": {},
   "outputs": [],
   "source": [
    "train=dict(\n",
    "        type=dataset_type,\n",
    "        data_root=data_root,\n",
    "        ann_file=data_root + 'nuscenes_infos_temporal_train.pkl',\n",
    "        pipeline=[],\n",
    "        classes=class_names,\n",
    "        modality=input_modality,\n",
    "        test_mode=False,\n",
    "        use_valid_flag=True,\n",
    "        bev_size=(bev_h_, bev_w_),\n",
    "        queue_length=queue_length,\n",
    "        # we use box_type_3d='LiDAR' in kitti and nuscenes dataset\n",
    "        # and box_type_3d='Depth' in sunrgbd and scannet dataset.\n",
    "        box_type_3d='LiDAR'),"
   ]
  },
  {
   "cell_type": "code",
   "execution_count": null,
   "metadata": {},
   "outputs": [],
   "source": [
    "from .mmsegBEV.datasets.nuscenes_dataset import NuScenesDataset"
   ]
  },
  {
   "cell_type": "code",
<<<<<<< HEAD
   "execution_count": 3,
   "metadata": {},
   "outputs": [
    {
     "name": "stdout",
     "output_type": "stream",
     "text": [
      "BEVSegmentation.projects.BEVFormerSeg.models\n"
     ]
    },
    {
     "ename": "ModuleNotFoundError",
     "evalue": "No module named 'BEVSegmentation'",
     "output_type": "error",
     "traceback": [
      "\u001b[0;31m---------------------------------------------------------------------------\u001b[0m",
      "\u001b[0;31mModuleNotFoundError\u001b[0m                       Traceback (most recent call last)",
      "Cell \u001b[0;32mIn[3], line 15\u001b[0m\n\u001b[1;32m     13\u001b[0m     _module_path \u001b[39m=\u001b[39m _module_path \u001b[39m+\u001b[39m \u001b[39m'\u001b[39m\u001b[39m.\u001b[39m\u001b[39m'\u001b[39m \u001b[39m+\u001b[39m m\n\u001b[1;32m     14\u001b[0m \u001b[39mprint\u001b[39m(_module_path)\n\u001b[0;32m---> 15\u001b[0m plg_lib \u001b[39m=\u001b[39m importlib\u001b[39m.\u001b[39;49mimport_module(_module_path)\n",
      "File \u001b[0;32m~/miniforge3/envs/MMLabEnv/lib/python3.8/importlib/__init__.py:127\u001b[0m, in \u001b[0;36mimport_module\u001b[0;34m(name, package)\u001b[0m\n\u001b[1;32m    125\u001b[0m             \u001b[39mbreak\u001b[39;00m\n\u001b[1;32m    126\u001b[0m         level \u001b[39m+\u001b[39m\u001b[39m=\u001b[39m \u001b[39m1\u001b[39m\n\u001b[0;32m--> 127\u001b[0m \u001b[39mreturn\u001b[39;00m _bootstrap\u001b[39m.\u001b[39;49m_gcd_import(name[level:], package, level)\n",
      "File \u001b[0;32m<frozen importlib._bootstrap>:1014\u001b[0m, in \u001b[0;36m_gcd_import\u001b[0;34m(name, package, level)\u001b[0m\n",
      "File \u001b[0;32m<frozen importlib._bootstrap>:991\u001b[0m, in \u001b[0;36m_find_and_load\u001b[0;34m(name, import_)\u001b[0m\n",
      "File \u001b[0;32m<frozen importlib._bootstrap>:961\u001b[0m, in \u001b[0;36m_find_and_load_unlocked\u001b[0;34m(name, import_)\u001b[0m\n",
      "File \u001b[0;32m<frozen importlib._bootstrap>:219\u001b[0m, in \u001b[0;36m_call_with_frames_removed\u001b[0;34m(f, *args, **kwds)\u001b[0m\n",
      "File \u001b[0;32m<frozen importlib._bootstrap>:1014\u001b[0m, in \u001b[0;36m_gcd_import\u001b[0;34m(name, package, level)\u001b[0m\n",
      "File \u001b[0;32m<frozen importlib._bootstrap>:991\u001b[0m, in \u001b[0;36m_find_and_load\u001b[0;34m(name, import_)\u001b[0m\n",
      "File \u001b[0;32m<frozen importlib._bootstrap>:961\u001b[0m, in \u001b[0;36m_find_and_load_unlocked\u001b[0;34m(name, import_)\u001b[0m\n",
      "File \u001b[0;32m<frozen importlib._bootstrap>:219\u001b[0m, in \u001b[0;36m_call_with_frames_removed\u001b[0;34m(f, *args, **kwds)\u001b[0m\n",
      "File \u001b[0;32m<frozen importlib._bootstrap>:1014\u001b[0m, in \u001b[0;36m_gcd_import\u001b[0;34m(name, package, level)\u001b[0m\n",
      "File \u001b[0;32m<frozen importlib._bootstrap>:991\u001b[0m, in \u001b[0;36m_find_and_load\u001b[0;34m(name, import_)\u001b[0m\n",
      "File \u001b[0;32m<frozen importlib._bootstrap>:961\u001b[0m, in \u001b[0;36m_find_and_load_unlocked\u001b[0;34m(name, import_)\u001b[0m\n",
      "File \u001b[0;32m<frozen importlib._bootstrap>:219\u001b[0m, in \u001b[0;36m_call_with_frames_removed\u001b[0;34m(f, *args, **kwds)\u001b[0m\n",
      "File \u001b[0;32m<frozen importlib._bootstrap>:1014\u001b[0m, in \u001b[0;36m_gcd_import\u001b[0;34m(name, package, level)\u001b[0m\n",
      "File \u001b[0;32m<frozen importlib._bootstrap>:991\u001b[0m, in \u001b[0;36m_find_and_load\u001b[0;34m(name, import_)\u001b[0m\n",
      "File \u001b[0;32m<frozen importlib._bootstrap>:973\u001b[0m, in \u001b[0;36m_find_and_load_unlocked\u001b[0;34m(name, import_)\u001b[0m\n",
      "\u001b[0;31mModuleNotFoundError\u001b[0m: No module named 'BEVSegmentation'"
     ]
    }
   ],
   "source": [
    "# import modules from plguin/xx, registry will be updated\n",
    "import importlib\n",
    "import os\n",
    "\n",
    "plugin_dir = \"BEVSegmentation/projects/BEVFormerSeg/models/\"\n",
    "                \n",
    "plugin_dir = plugin_dir\n",
    "_module_dir = os.path.dirname(plugin_dir)\n",
    "_module_dir = _module_dir.split('/')\n",
    "_module_path = _module_dir[0]\n",
    "\n",
    "for m in _module_dir[1:]:\n",
    "    _module_path = _module_path + '.' + m\n",
    "print(_module_path)\n",
    "plg_lib = importlib.import_module(_module_path)"
=======
   "execution_count": 1,
   "metadata": {},
   "outputs": [],
   "source": [
    "import torch"
>>>>>>> origin/bev
   ]
  },
  {
   "cell_type": "code",
<<<<<<< HEAD
   "execution_count": 2,
=======
   "execution_count": 4,
   "metadata": {},
   "outputs": [],
   "source": [
    "ckpt = torch.load(\"./projects/BEVSegFormer/ckpts/r101_dcn_fcos3d_pretrain.pth\")"
   ]
  },
  {
   "cell_type": "code",
   "execution_count": 7,
>>>>>>> origin/bev
   "metadata": {},
   "outputs": [
    {
     "data": {
      "text/plain": [
<<<<<<< HEAD
       "{'EncoderDecoder': mmsegBEV.models.segmentors.encoder_decoder.EncoderDecoder,\n",
       " 'CascadeEncoderDecoder': mmsegBEV.models.segmentors.cascade_encoder_decoder.CascadeEncoderDecoder,\n",
       " 'MVBEVSegFormer': projects.BEVFormerSeg.models.BEVFormerSeg.MVBEVSegFormer}"
      ]
     },
     "execution_count": 2,
=======
       "odict_keys(['bbox_head.bld_alpha', 'bbox_head.cls_convs.0.conv.weight', 'bbox_head.cls_convs.0.conv.bias', 'bbox_head.cls_convs.0.gn.weight', 'bbox_head.cls_convs.0.gn.bias', 'bbox_head.cls_convs.1.conv.weight', 'bbox_head.cls_convs.1.conv.bias', 'bbox_head.cls_convs.1.conv.conv_offset.weight', 'bbox_head.cls_convs.1.conv.conv_offset.bias', 'bbox_head.cls_convs.1.gn.weight', 'bbox_head.cls_convs.1.gn.bias', 'bbox_head.reg_convs.0.conv.weight', 'bbox_head.reg_convs.0.conv.bias', 'bbox_head.reg_convs.0.gn.weight', 'bbox_head.reg_convs.0.gn.bias', 'bbox_head.reg_convs.1.conv.weight', 'bbox_head.reg_convs.1.conv.bias', 'bbox_head.reg_convs.1.conv.conv_offset.weight', 'bbox_head.reg_convs.1.conv.conv_offset.bias', 'bbox_head.reg_convs.1.gn.weight', 'bbox_head.reg_convs.1.gn.bias', 'bbox_head.conv_cls_prev.0.conv.weight', 'bbox_head.conv_cls_prev.0.conv.bias', 'bbox_head.conv_cls_prev.0.gn.weight', 'bbox_head.conv_cls_prev.0.gn.bias', 'bbox_head.conv_cls.weight', 'bbox_head.conv_cls.bias', 'bbox_head.conv_reg_prevs.0.0.conv.weight', 'bbox_head.conv_reg_prevs.0.0.conv.bias', 'bbox_head.conv_reg_prevs.0.0.gn.weight', 'bbox_head.conv_reg_prevs.0.0.gn.bias', 'bbox_head.conv_reg_prevs.1.0.conv.weight', 'bbox_head.conv_reg_prevs.1.0.conv.bias', 'bbox_head.conv_reg_prevs.1.0.gn.weight', 'bbox_head.conv_reg_prevs.1.0.gn.bias', 'bbox_head.conv_reg_prevs.2.0.conv.weight', 'bbox_head.conv_reg_prevs.2.0.conv.bias', 'bbox_head.conv_reg_prevs.2.0.gn.weight', 'bbox_head.conv_reg_prevs.2.0.gn.bias', 'bbox_head.conv_reg_prevs.3.0.conv.weight', 'bbox_head.conv_reg_prevs.3.0.conv.bias', 'bbox_head.conv_reg_prevs.3.0.gn.weight', 'bbox_head.conv_reg_prevs.3.0.gn.bias', 'bbox_head.conv_reg_prevs.5.0.conv.weight', 'bbox_head.conv_reg_prevs.5.0.conv.bias', 'bbox_head.conv_reg_prevs.5.0.gn.weight', 'bbox_head.conv_reg_prevs.5.0.gn.bias', 'bbox_head.conv_regs.0.weight', 'bbox_head.conv_regs.0.bias', 'bbox_head.conv_regs.1.weight', 'bbox_head.conv_regs.1.bias', 'bbox_head.conv_regs.2.weight', 'bbox_head.conv_regs.2.bias', 'bbox_head.conv_regs.3.weight', 'bbox_head.conv_regs.3.bias', 'bbox_head.conv_regs.4.weight', 'bbox_head.conv_regs.4.bias', 'bbox_head.conv_regs.5.weight', 'bbox_head.conv_regs.5.bias', 'bbox_head.conv_dir_cls_prev.0.conv.weight', 'bbox_head.conv_dir_cls_prev.0.conv.bias', 'bbox_head.conv_dir_cls_prev.0.gn.weight', 'bbox_head.conv_dir_cls_prev.0.gn.bias', 'bbox_head.conv_dir_cls.weight', 'bbox_head.conv_dir_cls.bias', 'bbox_head.conv_attr_prev.0.conv.weight', 'bbox_head.conv_attr_prev.0.conv.bias', 'bbox_head.conv_attr_prev.0.gn.weight', 'bbox_head.conv_attr_prev.0.gn.bias', 'bbox_head.conv_attr.weight', 'bbox_head.conv_attr.bias', 'bbox_head.conv_depth_cls_prev.0.conv.weight', 'bbox_head.conv_depth_cls_prev.0.conv.bias', 'bbox_head.conv_depth_cls_prev.0.gn.weight', 'bbox_head.conv_depth_cls_prev.0.gn.bias', 'bbox_head.conv_depth_cls.weight', 'bbox_head.conv_depth_cls.bias', 'bbox_head.conv_centerness_prev.0.conv.weight', 'bbox_head.conv_centerness_prev.0.conv.bias', 'bbox_head.conv_centerness_prev.0.gn.weight', 'bbox_head.conv_centerness_prev.0.gn.bias', 'bbox_head.conv_centerness.weight', 'bbox_head.conv_centerness.bias', 'bbox_head.scales.0.0.scale', 'bbox_head.scales.0.1.scale', 'bbox_head.scales.0.2.scale', 'bbox_head.scales.0.3.scale', 'bbox_head.scales.1.0.scale', 'bbox_head.scales.1.1.scale', 'bbox_head.scales.1.2.scale', 'bbox_head.scales.1.3.scale', 'bbox_head.scales.2.0.scale', 'bbox_head.scales.2.1.scale', 'bbox_head.scales.2.2.scale', 'bbox_head.scales.2.3.scale', 'bbox_head.scales.3.0.scale', 'bbox_head.scales.3.1.scale', 'bbox_head.scales.3.2.scale', 'bbox_head.scales.3.3.scale', 'bbox_head.scales.4.0.scale', 'bbox_head.scales.4.1.scale', 'bbox_head.scales.4.2.scale', 'bbox_head.scales.4.3.scale', 'img_backbone.conv1.weight', 'img_backbone.bn1.weight', 'img_backbone.bn1.bias', 'img_backbone.bn1.running_mean', 'img_backbone.bn1.running_var', 'img_backbone.bn1.num_batches_tracked', 'img_backbone.layer1.0.conv1.weight', 'img_backbone.layer1.0.bn1.weight', 'img_backbone.layer1.0.bn1.bias', 'img_backbone.layer1.0.bn1.running_mean', 'img_backbone.layer1.0.bn1.running_var', 'img_backbone.layer1.0.bn1.num_batches_tracked', 'img_backbone.layer1.0.conv2.weight', 'img_backbone.layer1.0.bn2.weight', 'img_backbone.layer1.0.bn2.bias', 'img_backbone.layer1.0.bn2.running_mean', 'img_backbone.layer1.0.bn2.running_var', 'img_backbone.layer1.0.bn2.num_batches_tracked', 'img_backbone.layer1.0.conv3.weight', 'img_backbone.layer1.0.bn3.weight', 'img_backbone.layer1.0.bn3.bias', 'img_backbone.layer1.0.bn3.running_mean', 'img_backbone.layer1.0.bn3.running_var', 'img_backbone.layer1.0.bn3.num_batches_tracked', 'img_backbone.layer1.0.downsample.0.weight', 'img_backbone.layer1.0.downsample.1.weight', 'img_backbone.layer1.0.downsample.1.bias', 'img_backbone.layer1.0.downsample.1.running_mean', 'img_backbone.layer1.0.downsample.1.running_var', 'img_backbone.layer1.0.downsample.1.num_batches_tracked', 'img_backbone.layer1.1.conv1.weight', 'img_backbone.layer1.1.bn1.weight', 'img_backbone.layer1.1.bn1.bias', 'img_backbone.layer1.1.bn1.running_mean', 'img_backbone.layer1.1.bn1.running_var', 'img_backbone.layer1.1.bn1.num_batches_tracked', 'img_backbone.layer1.1.conv2.weight', 'img_backbone.layer1.1.bn2.weight', 'img_backbone.layer1.1.bn2.bias', 'img_backbone.layer1.1.bn2.running_mean', 'img_backbone.layer1.1.bn2.running_var', 'img_backbone.layer1.1.bn2.num_batches_tracked', 'img_backbone.layer1.1.conv3.weight', 'img_backbone.layer1.1.bn3.weight', 'img_backbone.layer1.1.bn3.bias', 'img_backbone.layer1.1.bn3.running_mean', 'img_backbone.layer1.1.bn3.running_var', 'img_backbone.layer1.1.bn3.num_batches_tracked', 'img_backbone.layer1.2.conv1.weight', 'img_backbone.layer1.2.bn1.weight', 'img_backbone.layer1.2.bn1.bias', 'img_backbone.layer1.2.bn1.running_mean', 'img_backbone.layer1.2.bn1.running_var', 'img_backbone.layer1.2.bn1.num_batches_tracked', 'img_backbone.layer1.2.conv2.weight', 'img_backbone.layer1.2.bn2.weight', 'img_backbone.layer1.2.bn2.bias', 'img_backbone.layer1.2.bn2.running_mean', 'img_backbone.layer1.2.bn2.running_var', 'img_backbone.layer1.2.bn2.num_batches_tracked', 'img_backbone.layer1.2.conv3.weight', 'img_backbone.layer1.2.bn3.weight', 'img_backbone.layer1.2.bn3.bias', 'img_backbone.layer1.2.bn3.running_mean', 'img_backbone.layer1.2.bn3.running_var', 'img_backbone.layer1.2.bn3.num_batches_tracked', 'img_backbone.layer2.0.conv1.weight', 'img_backbone.layer2.0.bn1.weight', 'img_backbone.layer2.0.bn1.bias', 'img_backbone.layer2.0.bn1.running_mean', 'img_backbone.layer2.0.bn1.running_var', 'img_backbone.layer2.0.bn1.num_batches_tracked', 'img_backbone.layer2.0.conv2.weight', 'img_backbone.layer2.0.bn2.weight', 'img_backbone.layer2.0.bn2.bias', 'img_backbone.layer2.0.bn2.running_mean', 'img_backbone.layer2.0.bn2.running_var', 'img_backbone.layer2.0.bn2.num_batches_tracked', 'img_backbone.layer2.0.conv3.weight', 'img_backbone.layer2.0.bn3.weight', 'img_backbone.layer2.0.bn3.bias', 'img_backbone.layer2.0.bn3.running_mean', 'img_backbone.layer2.0.bn3.running_var', 'img_backbone.layer2.0.bn3.num_batches_tracked', 'img_backbone.layer2.0.downsample.0.weight', 'img_backbone.layer2.0.downsample.1.weight', 'img_backbone.layer2.0.downsample.1.bias', 'img_backbone.layer2.0.downsample.1.running_mean', 'img_backbone.layer2.0.downsample.1.running_var', 'img_backbone.layer2.0.downsample.1.num_batches_tracked', 'img_backbone.layer2.1.conv1.weight', 'img_backbone.layer2.1.bn1.weight', 'img_backbone.layer2.1.bn1.bias', 'img_backbone.layer2.1.bn1.running_mean', 'img_backbone.layer2.1.bn1.running_var', 'img_backbone.layer2.1.bn1.num_batches_tracked', 'img_backbone.layer2.1.conv2.weight', 'img_backbone.layer2.1.bn2.weight', 'img_backbone.layer2.1.bn2.bias', 'img_backbone.layer2.1.bn2.running_mean', 'img_backbone.layer2.1.bn2.running_var', 'img_backbone.layer2.1.bn2.num_batches_tracked', 'img_backbone.layer2.1.conv3.weight', 'img_backbone.layer2.1.bn3.weight', 'img_backbone.layer2.1.bn3.bias', 'img_backbone.layer2.1.bn3.running_mean', 'img_backbone.layer2.1.bn3.running_var', 'img_backbone.layer2.1.bn3.num_batches_tracked', 'img_backbone.layer2.2.conv1.weight', 'img_backbone.layer2.2.bn1.weight', 'img_backbone.layer2.2.bn1.bias', 'img_backbone.layer2.2.bn1.running_mean', 'img_backbone.layer2.2.bn1.running_var', 'img_backbone.layer2.2.bn1.num_batches_tracked', 'img_backbone.layer2.2.conv2.weight', 'img_backbone.layer2.2.bn2.weight', 'img_backbone.layer2.2.bn2.bias', 'img_backbone.layer2.2.bn2.running_mean', 'img_backbone.layer2.2.bn2.running_var', 'img_backbone.layer2.2.bn2.num_batches_tracked', 'img_backbone.layer2.2.conv3.weight', 'img_backbone.layer2.2.bn3.weight', 'img_backbone.layer2.2.bn3.bias', 'img_backbone.layer2.2.bn3.running_mean', 'img_backbone.layer2.2.bn3.running_var', 'img_backbone.layer2.2.bn3.num_batches_tracked', 'img_backbone.layer2.3.conv1.weight', 'img_backbone.layer2.3.bn1.weight', 'img_backbone.layer2.3.bn1.bias', 'img_backbone.layer2.3.bn1.running_mean', 'img_backbone.layer2.3.bn1.running_var', 'img_backbone.layer2.3.bn1.num_batches_tracked', 'img_backbone.layer2.3.conv2.weight', 'img_backbone.layer2.3.bn2.weight', 'img_backbone.layer2.3.bn2.bias', 'img_backbone.layer2.3.bn2.running_mean', 'img_backbone.layer2.3.bn2.running_var', 'img_backbone.layer2.3.bn2.num_batches_tracked', 'img_backbone.layer2.3.conv3.weight', 'img_backbone.layer2.3.bn3.weight', 'img_backbone.layer2.3.bn3.bias', 'img_backbone.layer2.3.bn3.running_mean', 'img_backbone.layer2.3.bn3.running_var', 'img_backbone.layer2.3.bn3.num_batches_tracked', 'img_backbone.layer3.0.conv1.weight', 'img_backbone.layer3.0.bn1.weight', 'img_backbone.layer3.0.bn1.bias', 'img_backbone.layer3.0.bn1.running_mean', 'img_backbone.layer3.0.bn1.running_var', 'img_backbone.layer3.0.bn1.num_batches_tracked', 'img_backbone.layer3.0.conv2.weight', 'img_backbone.layer3.0.conv2.conv_offset.weight', 'img_backbone.layer3.0.conv2.conv_offset.bias', 'img_backbone.layer3.0.bn2.weight', 'img_backbone.layer3.0.bn2.bias', 'img_backbone.layer3.0.bn2.running_mean', 'img_backbone.layer3.0.bn2.running_var', 'img_backbone.layer3.0.bn2.num_batches_tracked', 'img_backbone.layer3.0.conv3.weight', 'img_backbone.layer3.0.bn3.weight', 'img_backbone.layer3.0.bn3.bias', 'img_backbone.layer3.0.bn3.running_mean', 'img_backbone.layer3.0.bn3.running_var', 'img_backbone.layer3.0.bn3.num_batches_tracked', 'img_backbone.layer3.0.downsample.0.weight', 'img_backbone.layer3.0.downsample.1.weight', 'img_backbone.layer3.0.downsample.1.bias', 'img_backbone.layer3.0.downsample.1.running_mean', 'img_backbone.layer3.0.downsample.1.running_var', 'img_backbone.layer3.0.downsample.1.num_batches_tracked', 'img_backbone.layer3.1.conv1.weight', 'img_backbone.layer3.1.bn1.weight', 'img_backbone.layer3.1.bn1.bias', 'img_backbone.layer3.1.bn1.running_mean', 'img_backbone.layer3.1.bn1.running_var', 'img_backbone.layer3.1.bn1.num_batches_tracked', 'img_backbone.layer3.1.conv2.weight', 'img_backbone.layer3.1.conv2.conv_offset.weight', 'img_backbone.layer3.1.conv2.conv_offset.bias', 'img_backbone.layer3.1.bn2.weight', 'img_backbone.layer3.1.bn2.bias', 'img_backbone.layer3.1.bn2.running_mean', 'img_backbone.layer3.1.bn2.running_var', 'img_backbone.layer3.1.bn2.num_batches_tracked', 'img_backbone.layer3.1.conv3.weight', 'img_backbone.layer3.1.bn3.weight', 'img_backbone.layer3.1.bn3.bias', 'img_backbone.layer3.1.bn3.running_mean', 'img_backbone.layer3.1.bn3.running_var', 'img_backbone.layer3.1.bn3.num_batches_tracked', 'img_backbone.layer3.2.conv1.weight', 'img_backbone.layer3.2.bn1.weight', 'img_backbone.layer3.2.bn1.bias', 'img_backbone.layer3.2.bn1.running_mean', 'img_backbone.layer3.2.bn1.running_var', 'img_backbone.layer3.2.bn1.num_batches_tracked', 'img_backbone.layer3.2.conv2.weight', 'img_backbone.layer3.2.conv2.conv_offset.weight', 'img_backbone.layer3.2.conv2.conv_offset.bias', 'img_backbone.layer3.2.bn2.weight', 'img_backbone.layer3.2.bn2.bias', 'img_backbone.layer3.2.bn2.running_mean', 'img_backbone.layer3.2.bn2.running_var', 'img_backbone.layer3.2.bn2.num_batches_tracked', 'img_backbone.layer3.2.conv3.weight', 'img_backbone.layer3.2.bn3.weight', 'img_backbone.layer3.2.bn3.bias', 'img_backbone.layer3.2.bn3.running_mean', 'img_backbone.layer3.2.bn3.running_var', 'img_backbone.layer3.2.bn3.num_batches_tracked', 'img_backbone.layer3.3.conv1.weight', 'img_backbone.layer3.3.bn1.weight', 'img_backbone.layer3.3.bn1.bias', 'img_backbone.layer3.3.bn1.running_mean', 'img_backbone.layer3.3.bn1.running_var', 'img_backbone.layer3.3.bn1.num_batches_tracked', 'img_backbone.layer3.3.conv2.weight', 'img_backbone.layer3.3.conv2.conv_offset.weight', 'img_backbone.layer3.3.conv2.conv_offset.bias', 'img_backbone.layer3.3.bn2.weight', 'img_backbone.layer3.3.bn2.bias', 'img_backbone.layer3.3.bn2.running_mean', 'img_backbone.layer3.3.bn2.running_var', 'img_backbone.layer3.3.bn2.num_batches_tracked', 'img_backbone.layer3.3.conv3.weight', 'img_backbone.layer3.3.bn3.weight', 'img_backbone.layer3.3.bn3.bias', 'img_backbone.layer3.3.bn3.running_mean', 'img_backbone.layer3.3.bn3.running_var', 'img_backbone.layer3.3.bn3.num_batches_tracked', 'img_backbone.layer3.4.conv1.weight', 'img_backbone.layer3.4.bn1.weight', 'img_backbone.layer3.4.bn1.bias', 'img_backbone.layer3.4.bn1.running_mean', 'img_backbone.layer3.4.bn1.running_var', 'img_backbone.layer3.4.bn1.num_batches_tracked', 'img_backbone.layer3.4.conv2.weight', 'img_backbone.layer3.4.conv2.conv_offset.weight', 'img_backbone.layer3.4.conv2.conv_offset.bias', 'img_backbone.layer3.4.bn2.weight', 'img_backbone.layer3.4.bn2.bias', 'img_backbone.layer3.4.bn2.running_mean', 'img_backbone.layer3.4.bn2.running_var', 'img_backbone.layer3.4.bn2.num_batches_tracked', 'img_backbone.layer3.4.conv3.weight', 'img_backbone.layer3.4.bn3.weight', 'img_backbone.layer3.4.bn3.bias', 'img_backbone.layer3.4.bn3.running_mean', 'img_backbone.layer3.4.bn3.running_var', 'img_backbone.layer3.4.bn3.num_batches_tracked', 'img_backbone.layer3.5.conv1.weight', 'img_backbone.layer3.5.bn1.weight', 'img_backbone.layer3.5.bn1.bias', 'img_backbone.layer3.5.bn1.running_mean', 'img_backbone.layer3.5.bn1.running_var', 'img_backbone.layer3.5.bn1.num_batches_tracked', 'img_backbone.layer3.5.conv2.weight', 'img_backbone.layer3.5.conv2.conv_offset.weight', 'img_backbone.layer3.5.conv2.conv_offset.bias', 'img_backbone.layer3.5.bn2.weight', 'img_backbone.layer3.5.bn2.bias', 'img_backbone.layer3.5.bn2.running_mean', 'img_backbone.layer3.5.bn2.running_var', 'img_backbone.layer3.5.bn2.num_batches_tracked', 'img_backbone.layer3.5.conv3.weight', 'img_backbone.layer3.5.bn3.weight', 'img_backbone.layer3.5.bn3.bias', 'img_backbone.layer3.5.bn3.running_mean', 'img_backbone.layer3.5.bn3.running_var', 'img_backbone.layer3.5.bn3.num_batches_tracked', 'img_backbone.layer3.6.conv1.weight', 'img_backbone.layer3.6.bn1.weight', 'img_backbone.layer3.6.bn1.bias', 'img_backbone.layer3.6.bn1.running_mean', 'img_backbone.layer3.6.bn1.running_var', 'img_backbone.layer3.6.bn1.num_batches_tracked', 'img_backbone.layer3.6.conv2.weight', 'img_backbone.layer3.6.conv2.conv_offset.weight', 'img_backbone.layer3.6.conv2.conv_offset.bias', 'img_backbone.layer3.6.bn2.weight', 'img_backbone.layer3.6.bn2.bias', 'img_backbone.layer3.6.bn2.running_mean', 'img_backbone.layer3.6.bn2.running_var', 'img_backbone.layer3.6.bn2.num_batches_tracked', 'img_backbone.layer3.6.conv3.weight', 'img_backbone.layer3.6.bn3.weight', 'img_backbone.layer3.6.bn3.bias', 'img_backbone.layer3.6.bn3.running_mean', 'img_backbone.layer3.6.bn3.running_var', 'img_backbone.layer3.6.bn3.num_batches_tracked', 'img_backbone.layer3.7.conv1.weight', 'img_backbone.layer3.7.bn1.weight', 'img_backbone.layer3.7.bn1.bias', 'img_backbone.layer3.7.bn1.running_mean', 'img_backbone.layer3.7.bn1.running_var', 'img_backbone.layer3.7.bn1.num_batches_tracked', 'img_backbone.layer3.7.conv2.weight', 'img_backbone.layer3.7.conv2.conv_offset.weight', 'img_backbone.layer3.7.conv2.conv_offset.bias', 'img_backbone.layer3.7.bn2.weight', 'img_backbone.layer3.7.bn2.bias', 'img_backbone.layer3.7.bn2.running_mean', 'img_backbone.layer3.7.bn2.running_var', 'img_backbone.layer3.7.bn2.num_batches_tracked', 'img_backbone.layer3.7.conv3.weight', 'img_backbone.layer3.7.bn3.weight', 'img_backbone.layer3.7.bn3.bias', 'img_backbone.layer3.7.bn3.running_mean', 'img_backbone.layer3.7.bn3.running_var', 'img_backbone.layer3.7.bn3.num_batches_tracked', 'img_backbone.layer3.8.conv1.weight', 'img_backbone.layer3.8.bn1.weight', 'img_backbone.layer3.8.bn1.bias', 'img_backbone.layer3.8.bn1.running_mean', 'img_backbone.layer3.8.bn1.running_var', 'img_backbone.layer3.8.bn1.num_batches_tracked', 'img_backbone.layer3.8.conv2.weight', 'img_backbone.layer3.8.conv2.conv_offset.weight', 'img_backbone.layer3.8.conv2.conv_offset.bias', 'img_backbone.layer3.8.bn2.weight', 'img_backbone.layer3.8.bn2.bias', 'img_backbone.layer3.8.bn2.running_mean', 'img_backbone.layer3.8.bn2.running_var', 'img_backbone.layer3.8.bn2.num_batches_tracked', 'img_backbone.layer3.8.conv3.weight', 'img_backbone.layer3.8.bn3.weight', 'img_backbone.layer3.8.bn3.bias', 'img_backbone.layer3.8.bn3.running_mean', 'img_backbone.layer3.8.bn3.running_var', 'img_backbone.layer3.8.bn3.num_batches_tracked', 'img_backbone.layer3.9.conv1.weight', 'img_backbone.layer3.9.bn1.weight', 'img_backbone.layer3.9.bn1.bias', 'img_backbone.layer3.9.bn1.running_mean', 'img_backbone.layer3.9.bn1.running_var', 'img_backbone.layer3.9.bn1.num_batches_tracked', 'img_backbone.layer3.9.conv2.weight', 'img_backbone.layer3.9.conv2.conv_offset.weight', 'img_backbone.layer3.9.conv2.conv_offset.bias', 'img_backbone.layer3.9.bn2.weight', 'img_backbone.layer3.9.bn2.bias', 'img_backbone.layer3.9.bn2.running_mean', 'img_backbone.layer3.9.bn2.running_var', 'img_backbone.layer3.9.bn2.num_batches_tracked', 'img_backbone.layer3.9.conv3.weight', 'img_backbone.layer3.9.bn3.weight', 'img_backbone.layer3.9.bn3.bias', 'img_backbone.layer3.9.bn3.running_mean', 'img_backbone.layer3.9.bn3.running_var', 'img_backbone.layer3.9.bn3.num_batches_tracked', 'img_backbone.layer3.10.conv1.weight', 'img_backbone.layer3.10.bn1.weight', 'img_backbone.layer3.10.bn1.bias', 'img_backbone.layer3.10.bn1.running_mean', 'img_backbone.layer3.10.bn1.running_var', 'img_backbone.layer3.10.bn1.num_batches_tracked', 'img_backbone.layer3.10.conv2.weight', 'img_backbone.layer3.10.conv2.conv_offset.weight', 'img_backbone.layer3.10.conv2.conv_offset.bias', 'img_backbone.layer3.10.bn2.weight', 'img_backbone.layer3.10.bn2.bias', 'img_backbone.layer3.10.bn2.running_mean', 'img_backbone.layer3.10.bn2.running_var', 'img_backbone.layer3.10.bn2.num_batches_tracked', 'img_backbone.layer3.10.conv3.weight', 'img_backbone.layer3.10.bn3.weight', 'img_backbone.layer3.10.bn3.bias', 'img_backbone.layer3.10.bn3.running_mean', 'img_backbone.layer3.10.bn3.running_var', 'img_backbone.layer3.10.bn3.num_batches_tracked', 'img_backbone.layer3.11.conv1.weight', 'img_backbone.layer3.11.bn1.weight', 'img_backbone.layer3.11.bn1.bias', 'img_backbone.layer3.11.bn1.running_mean', 'img_backbone.layer3.11.bn1.running_var', 'img_backbone.layer3.11.bn1.num_batches_tracked', 'img_backbone.layer3.11.conv2.weight', 'img_backbone.layer3.11.conv2.conv_offset.weight', 'img_backbone.layer3.11.conv2.conv_offset.bias', 'img_backbone.layer3.11.bn2.weight', 'img_backbone.layer3.11.bn2.bias', 'img_backbone.layer3.11.bn2.running_mean', 'img_backbone.layer3.11.bn2.running_var', 'img_backbone.layer3.11.bn2.num_batches_tracked', 'img_backbone.layer3.11.conv3.weight', 'img_backbone.layer3.11.bn3.weight', 'img_backbone.layer3.11.bn3.bias', 'img_backbone.layer3.11.bn3.running_mean', 'img_backbone.layer3.11.bn3.running_var', 'img_backbone.layer3.11.bn3.num_batches_tracked', 'img_backbone.layer3.12.conv1.weight', 'img_backbone.layer3.12.bn1.weight', 'img_backbone.layer3.12.bn1.bias', 'img_backbone.layer3.12.bn1.running_mean', 'img_backbone.layer3.12.bn1.running_var', 'img_backbone.layer3.12.bn1.num_batches_tracked', 'img_backbone.layer3.12.conv2.weight', 'img_backbone.layer3.12.conv2.conv_offset.weight', 'img_backbone.layer3.12.conv2.conv_offset.bias', 'img_backbone.layer3.12.bn2.weight', 'img_backbone.layer3.12.bn2.bias', 'img_backbone.layer3.12.bn2.running_mean', 'img_backbone.layer3.12.bn2.running_var', 'img_backbone.layer3.12.bn2.num_batches_tracked', 'img_backbone.layer3.12.conv3.weight', 'img_backbone.layer3.12.bn3.weight', 'img_backbone.layer3.12.bn3.bias', 'img_backbone.layer3.12.bn3.running_mean', 'img_backbone.layer3.12.bn3.running_var', 'img_backbone.layer3.12.bn3.num_batches_tracked', 'img_backbone.layer3.13.conv1.weight', 'img_backbone.layer3.13.bn1.weight', 'img_backbone.layer3.13.bn1.bias', 'img_backbone.layer3.13.bn1.running_mean', 'img_backbone.layer3.13.bn1.running_var', 'img_backbone.layer3.13.bn1.num_batches_tracked', 'img_backbone.layer3.13.conv2.weight', 'img_backbone.layer3.13.conv2.conv_offset.weight', 'img_backbone.layer3.13.conv2.conv_offset.bias', 'img_backbone.layer3.13.bn2.weight', 'img_backbone.layer3.13.bn2.bias', 'img_backbone.layer3.13.bn2.running_mean', 'img_backbone.layer3.13.bn2.running_var', 'img_backbone.layer3.13.bn2.num_batches_tracked', 'img_backbone.layer3.13.conv3.weight', 'img_backbone.layer3.13.bn3.weight', 'img_backbone.layer3.13.bn3.bias', 'img_backbone.layer3.13.bn3.running_mean', 'img_backbone.layer3.13.bn3.running_var', 'img_backbone.layer3.13.bn3.num_batches_tracked', 'img_backbone.layer3.14.conv1.weight', 'img_backbone.layer3.14.bn1.weight', 'img_backbone.layer3.14.bn1.bias', 'img_backbone.layer3.14.bn1.running_mean', 'img_backbone.layer3.14.bn1.running_var', 'img_backbone.layer3.14.bn1.num_batches_tracked', 'img_backbone.layer3.14.conv2.weight', 'img_backbone.layer3.14.conv2.conv_offset.weight', 'img_backbone.layer3.14.conv2.conv_offset.bias', 'img_backbone.layer3.14.bn2.weight', 'img_backbone.layer3.14.bn2.bias', 'img_backbone.layer3.14.bn2.running_mean', 'img_backbone.layer3.14.bn2.running_var', 'img_backbone.layer3.14.bn2.num_batches_tracked', 'img_backbone.layer3.14.conv3.weight', 'img_backbone.layer3.14.bn3.weight', 'img_backbone.layer3.14.bn3.bias', 'img_backbone.layer3.14.bn3.running_mean', 'img_backbone.layer3.14.bn3.running_var', 'img_backbone.layer3.14.bn3.num_batches_tracked', 'img_backbone.layer3.15.conv1.weight', 'img_backbone.layer3.15.bn1.weight', 'img_backbone.layer3.15.bn1.bias', 'img_backbone.layer3.15.bn1.running_mean', 'img_backbone.layer3.15.bn1.running_var', 'img_backbone.layer3.15.bn1.num_batches_tracked', 'img_backbone.layer3.15.conv2.weight', 'img_backbone.layer3.15.conv2.conv_offset.weight', 'img_backbone.layer3.15.conv2.conv_offset.bias', 'img_backbone.layer3.15.bn2.weight', 'img_backbone.layer3.15.bn2.bias', 'img_backbone.layer3.15.bn2.running_mean', 'img_backbone.layer3.15.bn2.running_var', 'img_backbone.layer3.15.bn2.num_batches_tracked', 'img_backbone.layer3.15.conv3.weight', 'img_backbone.layer3.15.bn3.weight', 'img_backbone.layer3.15.bn3.bias', 'img_backbone.layer3.15.bn3.running_mean', 'img_backbone.layer3.15.bn3.running_var', 'img_backbone.layer3.15.bn3.num_batches_tracked', 'img_backbone.layer3.16.conv1.weight', 'img_backbone.layer3.16.bn1.weight', 'img_backbone.layer3.16.bn1.bias', 'img_backbone.layer3.16.bn1.running_mean', 'img_backbone.layer3.16.bn1.running_var', 'img_backbone.layer3.16.bn1.num_batches_tracked', 'img_backbone.layer3.16.conv2.weight', 'img_backbone.layer3.16.conv2.conv_offset.weight', 'img_backbone.layer3.16.conv2.conv_offset.bias', 'img_backbone.layer3.16.bn2.weight', 'img_backbone.layer3.16.bn2.bias', 'img_backbone.layer3.16.bn2.running_mean', 'img_backbone.layer3.16.bn2.running_var', 'img_backbone.layer3.16.bn2.num_batches_tracked', 'img_backbone.layer3.16.conv3.weight', 'img_backbone.layer3.16.bn3.weight', 'img_backbone.layer3.16.bn3.bias', 'img_backbone.layer3.16.bn3.running_mean', 'img_backbone.layer3.16.bn3.running_var', 'img_backbone.layer3.16.bn3.num_batches_tracked', 'img_backbone.layer3.17.conv1.weight', 'img_backbone.layer3.17.bn1.weight', 'img_backbone.layer3.17.bn1.bias', 'img_backbone.layer3.17.bn1.running_mean', 'img_backbone.layer3.17.bn1.running_var', 'img_backbone.layer3.17.bn1.num_batches_tracked', 'img_backbone.layer3.17.conv2.weight', 'img_backbone.layer3.17.conv2.conv_offset.weight', 'img_backbone.layer3.17.conv2.conv_offset.bias', 'img_backbone.layer3.17.bn2.weight', 'img_backbone.layer3.17.bn2.bias', 'img_backbone.layer3.17.bn2.running_mean', 'img_backbone.layer3.17.bn2.running_var', 'img_backbone.layer3.17.bn2.num_batches_tracked', 'img_backbone.layer3.17.conv3.weight', 'img_backbone.layer3.17.bn3.weight', 'img_backbone.layer3.17.bn3.bias', 'img_backbone.layer3.17.bn3.running_mean', 'img_backbone.layer3.17.bn3.running_var', 'img_backbone.layer3.17.bn3.num_batches_tracked', 'img_backbone.layer3.18.conv1.weight', 'img_backbone.layer3.18.bn1.weight', 'img_backbone.layer3.18.bn1.bias', 'img_backbone.layer3.18.bn1.running_mean', 'img_backbone.layer3.18.bn1.running_var', 'img_backbone.layer3.18.bn1.num_batches_tracked', 'img_backbone.layer3.18.conv2.weight', 'img_backbone.layer3.18.conv2.conv_offset.weight', 'img_backbone.layer3.18.conv2.conv_offset.bias', 'img_backbone.layer3.18.bn2.weight', 'img_backbone.layer3.18.bn2.bias', 'img_backbone.layer3.18.bn2.running_mean', 'img_backbone.layer3.18.bn2.running_var', 'img_backbone.layer3.18.bn2.num_batches_tracked', 'img_backbone.layer3.18.conv3.weight', 'img_backbone.layer3.18.bn3.weight', 'img_backbone.layer3.18.bn3.bias', 'img_backbone.layer3.18.bn3.running_mean', 'img_backbone.layer3.18.bn3.running_var', 'img_backbone.layer3.18.bn3.num_batches_tracked', 'img_backbone.layer3.19.conv1.weight', 'img_backbone.layer3.19.bn1.weight', 'img_backbone.layer3.19.bn1.bias', 'img_backbone.layer3.19.bn1.running_mean', 'img_backbone.layer3.19.bn1.running_var', 'img_backbone.layer3.19.bn1.num_batches_tracked', 'img_backbone.layer3.19.conv2.weight', 'img_backbone.layer3.19.conv2.conv_offset.weight', 'img_backbone.layer3.19.conv2.conv_offset.bias', 'img_backbone.layer3.19.bn2.weight', 'img_backbone.layer3.19.bn2.bias', 'img_backbone.layer3.19.bn2.running_mean', 'img_backbone.layer3.19.bn2.running_var', 'img_backbone.layer3.19.bn2.num_batches_tracked', 'img_backbone.layer3.19.conv3.weight', 'img_backbone.layer3.19.bn3.weight', 'img_backbone.layer3.19.bn3.bias', 'img_backbone.layer3.19.bn3.running_mean', 'img_backbone.layer3.19.bn3.running_var', 'img_backbone.layer3.19.bn3.num_batches_tracked', 'img_backbone.layer3.20.conv1.weight', 'img_backbone.layer3.20.bn1.weight', 'img_backbone.layer3.20.bn1.bias', 'img_backbone.layer3.20.bn1.running_mean', 'img_backbone.layer3.20.bn1.running_var', 'img_backbone.layer3.20.bn1.num_batches_tracked', 'img_backbone.layer3.20.conv2.weight', 'img_backbone.layer3.20.conv2.conv_offset.weight', 'img_backbone.layer3.20.conv2.conv_offset.bias', 'img_backbone.layer3.20.bn2.weight', 'img_backbone.layer3.20.bn2.bias', 'img_backbone.layer3.20.bn2.running_mean', 'img_backbone.layer3.20.bn2.running_var', 'img_backbone.layer3.20.bn2.num_batches_tracked', 'img_backbone.layer3.20.conv3.weight', 'img_backbone.layer3.20.bn3.weight', 'img_backbone.layer3.20.bn3.bias', 'img_backbone.layer3.20.bn3.running_mean', 'img_backbone.layer3.20.bn3.running_var', 'img_backbone.layer3.20.bn3.num_batches_tracked', 'img_backbone.layer3.21.conv1.weight', 'img_backbone.layer3.21.bn1.weight', 'img_backbone.layer3.21.bn1.bias', 'img_backbone.layer3.21.bn1.running_mean', 'img_backbone.layer3.21.bn1.running_var', 'img_backbone.layer3.21.bn1.num_batches_tracked', 'img_backbone.layer3.21.conv2.weight', 'img_backbone.layer3.21.conv2.conv_offset.weight', 'img_backbone.layer3.21.conv2.conv_offset.bias', 'img_backbone.layer3.21.bn2.weight', 'img_backbone.layer3.21.bn2.bias', 'img_backbone.layer3.21.bn2.running_mean', 'img_backbone.layer3.21.bn2.running_var', 'img_backbone.layer3.21.bn2.num_batches_tracked', 'img_backbone.layer3.21.conv3.weight', 'img_backbone.layer3.21.bn3.weight', 'img_backbone.layer3.21.bn3.bias', 'img_backbone.layer3.21.bn3.running_mean', 'img_backbone.layer3.21.bn3.running_var', 'img_backbone.layer3.21.bn3.num_batches_tracked', 'img_backbone.layer3.22.conv1.weight', 'img_backbone.layer3.22.bn1.weight', 'img_backbone.layer3.22.bn1.bias', 'img_backbone.layer3.22.bn1.running_mean', 'img_backbone.layer3.22.bn1.running_var', 'img_backbone.layer3.22.bn1.num_batches_tracked', 'img_backbone.layer3.22.conv2.weight', 'img_backbone.layer3.22.conv2.conv_offset.weight', 'img_backbone.layer3.22.conv2.conv_offset.bias', 'img_backbone.layer3.22.bn2.weight', 'img_backbone.layer3.22.bn2.bias', 'img_backbone.layer3.22.bn2.running_mean', 'img_backbone.layer3.22.bn2.running_var', 'img_backbone.layer3.22.bn2.num_batches_tracked', 'img_backbone.layer3.22.conv3.weight', 'img_backbone.layer3.22.bn3.weight', 'img_backbone.layer3.22.bn3.bias', 'img_backbone.layer3.22.bn3.running_mean', 'img_backbone.layer3.22.bn3.running_var', 'img_backbone.layer3.22.bn3.num_batches_tracked', 'img_backbone.layer4.0.conv1.weight', 'img_backbone.layer4.0.bn1.weight', 'img_backbone.layer4.0.bn1.bias', 'img_backbone.layer4.0.bn1.running_mean', 'img_backbone.layer4.0.bn1.running_var', 'img_backbone.layer4.0.bn1.num_batches_tracked', 'img_backbone.layer4.0.conv2.weight', 'img_backbone.layer4.0.conv2.conv_offset.weight', 'img_backbone.layer4.0.conv2.conv_offset.bias', 'img_backbone.layer4.0.bn2.weight', 'img_backbone.layer4.0.bn2.bias', 'img_backbone.layer4.0.bn2.running_mean', 'img_backbone.layer4.0.bn2.running_var', 'img_backbone.layer4.0.bn2.num_batches_tracked', 'img_backbone.layer4.0.conv3.weight', 'img_backbone.layer4.0.bn3.weight', 'img_backbone.layer4.0.bn3.bias', 'img_backbone.layer4.0.bn3.running_mean', 'img_backbone.layer4.0.bn3.running_var', 'img_backbone.layer4.0.bn3.num_batches_tracked', 'img_backbone.layer4.0.downsample.0.weight', 'img_backbone.layer4.0.downsample.1.weight', 'img_backbone.layer4.0.downsample.1.bias', 'img_backbone.layer4.0.downsample.1.running_mean', 'img_backbone.layer4.0.downsample.1.running_var', 'img_backbone.layer4.0.downsample.1.num_batches_tracked', 'img_backbone.layer4.1.conv1.weight', 'img_backbone.layer4.1.bn1.weight', 'img_backbone.layer4.1.bn1.bias', 'img_backbone.layer4.1.bn1.running_mean', 'img_backbone.layer4.1.bn1.running_var', 'img_backbone.layer4.1.bn1.num_batches_tracked', 'img_backbone.layer4.1.conv2.weight', 'img_backbone.layer4.1.conv2.conv_offset.weight', 'img_backbone.layer4.1.conv2.conv_offset.bias', 'img_backbone.layer4.1.bn2.weight', 'img_backbone.layer4.1.bn2.bias', 'img_backbone.layer4.1.bn2.running_mean', 'img_backbone.layer4.1.bn2.running_var', 'img_backbone.layer4.1.bn2.num_batches_tracked', 'img_backbone.layer4.1.conv3.weight', 'img_backbone.layer4.1.bn3.weight', 'img_backbone.layer4.1.bn3.bias', 'img_backbone.layer4.1.bn3.running_mean', 'img_backbone.layer4.1.bn3.running_var', 'img_backbone.layer4.1.bn3.num_batches_tracked', 'img_backbone.layer4.2.conv1.weight', 'img_backbone.layer4.2.bn1.weight', 'img_backbone.layer4.2.bn1.bias', 'img_backbone.layer4.2.bn1.running_mean', 'img_backbone.layer4.2.bn1.running_var', 'img_backbone.layer4.2.bn1.num_batches_tracked', 'img_backbone.layer4.2.conv2.weight', 'img_backbone.layer4.2.conv2.conv_offset.weight', 'img_backbone.layer4.2.conv2.conv_offset.bias', 'img_backbone.layer4.2.bn2.weight', 'img_backbone.layer4.2.bn2.bias', 'img_backbone.layer4.2.bn2.running_mean', 'img_backbone.layer4.2.bn2.running_var', 'img_backbone.layer4.2.bn2.num_batches_tracked', 'img_backbone.layer4.2.conv3.weight', 'img_backbone.layer4.2.bn3.weight', 'img_backbone.layer4.2.bn3.bias', 'img_backbone.layer4.2.bn3.running_mean', 'img_backbone.layer4.2.bn3.running_var', 'img_backbone.layer4.2.bn3.num_batches_tracked', 'img_neck.lateral_convs.0.conv.weight', 'img_neck.lateral_convs.0.conv.bias', 'img_neck.lateral_convs.1.conv.weight', 'img_neck.lateral_convs.1.conv.bias', 'img_neck.lateral_convs.2.conv.weight', 'img_neck.lateral_convs.2.conv.bias', 'img_neck.fpn_convs.0.conv.weight', 'img_neck.fpn_convs.0.conv.bias', 'img_neck.fpn_convs.1.conv.weight', 'img_neck.fpn_convs.1.conv.bias', 'img_neck.fpn_convs.2.conv.weight', 'img_neck.fpn_convs.2.conv.bias', 'img_neck.fpn_convs.3.conv.weight', 'img_neck.fpn_convs.3.conv.bias', 'img_neck.fpn_convs.4.conv.weight', 'img_neck.fpn_convs.4.conv.bias'])"
      ]
     },
     "execution_count": 7,
>>>>>>> origin/bev
     "metadata": {},
     "output_type": "execute_result"
    }
   ],
   "source": [
<<<<<<< HEAD
    "from mmsegBEV.models import SEGMENTORS\n",
    "SEGMENTORS.module_dict"
=======
    "for key, value in ckpt[\"state_dict\"].items():\n",
    "    if (keys.find(\"img_backbone\"))"
   ]
  },
  {
   "cell_type": "code",
   "execution_count": null,
   "metadata": {},
   "outputs": [
    {
     "ename": "",
     "evalue": "",
     "output_type": "error",
     "traceback": [
      "\u001b[1;31mFailed to start the Kernel. \n",
      "\u001b[1;31mUnhandled error. \n",
      "\u001b[1;31mView Jupyter <a href='command:jupyter.viewOutput'>log</a> for further details."
     ]
    }
   ],
   "source": [
    "import torch.utils.collect_env"
   ]
  },
  {
   "cell_type": "code",
   "execution_count": null,
   "metadata": {},
   "outputs": [],
   "source": [
    "PyTorch version: 2.0.0\\nIs debug build: False\\nCUDA used to build PyTorch: Could not collect\\nROCM used to build PyTorch: N/A\\n\\nOS: CentOS Linux 7 (Core) (x86_64)\\nGCC version: (GCC) 6.1.0\\nClang version: 12.0.0 (https://github.com/llvm/llvm-project/ d28af7c654d8db0b68c175db5ce212d74fb5e9bc)\\nCMake version: version 3.21.3\\nLibc version: glibc-2.17\\n\\nPython version: 3.8.16 (default, Mar  2 2023, 03:21:46)  [GCC 11.2.0] (64-bit runtime)\\nPython platform: Linux-3.10.0-1160.88.1.el7.x86_64-x86_64-with-glibc2.17\\nIs CUDA available: False\\nCUDA runtime version: 10.0.130\\nCUDA_MODULE_LOADING set to: N/A\\nGPU models and configuration: \\nGPU 0: NVIDIA GeForce RTX 2080 Ti\\nGPU 1: NVIDIA GeForce RTX 2080 Ti\\nGPU 2: NVIDIA GeForce RTX 2080 Ti\\nGPU 3: NVIDIA GeForce RTX 2080 Ti\\n\\nNvidia driver version: 520.61.05\\ncuDNN version: Could not collect\\nHIP runtime version: N/A\\nMIOpen runtime version: N/A\\nIs XNNPACK available: True\\n\\nCPU:\\nArchitecture:          x86_64\\nCPU op-mode(s):        32-bit, 64-bit\\nByte Order:            Little Endian\\nCPU(s):                19\\nOn-line CPU(s) list:   0-18\\nThread(s) per core:    1\\nCore(s) per socket:    1\\nSocket(s):             19\\nNUMA node(s):          1\\nVendor ID:             GenuineIntel\\nCPU family:            6\\nModel:                 85\\nModel name:            Intel Xeon Processor (Skylake, IBRS)\\nStepping:              4\\nCPU MHz:               2399.575\\nBogoMIPS:              4799.15\\nL1d cache:             32K\\nL1i cache:             32K\\nL2 cache:              4096K\\nL3 cache:              16384K\\nNUMA node0 CPU(s):     0-18\\nFlags:                 fpu vme de pse tsc msr pae mce cx8 apic sep mtrr pge mca cmov pat pse36 clflush mmx fxsr sse sse2 syscall nx pdpe1gb rdtscp lm constant_tsc rep_good nopl xtopology eagerfpu pni pclmulqdq ssse3 fma cx16 pcid sse4_1 sse4_2 x2apic movbe popcnt tsc_deadline_timer aes xsave avx f16c rdrand hypervisor lahf_lm abm 3dnowprefetch invpcid_single rsb_ctxsw ibrs ibpb fsgsbase bmi1 hle avx2 smep bmi2 erms invpcid rtm mpx avx512f avx512dq rdseed adx smap clwb avx512cd avx512bw avx512vl xsaveopt xsavec xgetbv1 arat spec_ctrl\\n\\nVersions of relevant libraries:\\n[pip3] numpy==1.24.3\\n[pip3] torch==2.0.0\\n[pip3] torchaudio==2.0.0\\n[pip3] torchvision==0.13.1a0\\n[conda] blas                      1.0                         mkl  \\n[conda] cudatoolkit               11.1.1              ha002fc5_10    conda-forge\\n[conda] mkl                       2021.4.0           h06a4308_640  \\n[conda] mkl-service               2.4.0            py38h95df7f1_0    conda-forge\\n[conda] mkl_fft                   1.3.1            py38hd3c417c_0  \\n[conda] mkl_random                1.2.2            py38h1abd341_0    conda-forge\\n[conda] numpy                     1.23.0                   pypi_0    pypi\\n[conda] numpy-base                1.24.3           py38h31eccc5_0  \\n[conda] pytorch                   2.0.0               py3.8_cpu_0    pytorch\\n[conda] pytorch-mutex             1.0                         cpu    pytorch\\n[conda] torchaudio                2.0.0                  py38_cpu    pytorch\\n[conda] torchvision               0.13.1          cpu_py38h164cc8f_0  '"
>>>>>>> origin/bev
   ]
  }
 ],
 "metadata": {
  "kernelspec": {
   "display_name": "base",
   "language": "python",
   "name": "python3"
  },
  "language_info": {
   "codemirror_mode": {
    "name": "ipython",
    "version": 3
   },
   "file_extension": ".py",
   "mimetype": "text/x-python",
   "name": "python",
   "nbconvert_exporter": "python",
   "pygments_lexer": "ipython3",
   "version": "3.8.16"
  },
  "orig_nbformat": 4
 },
 "nbformat": 4,
 "nbformat_minor": 2
}
