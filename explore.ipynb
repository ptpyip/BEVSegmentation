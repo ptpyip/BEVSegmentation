{
 "cells": [
  {
   "cell_type": "code",
   "execution_count": 1,
   "metadata": {},
   "outputs": [],
   "source": [
    "import yaml\n",
    "from pprint import pprint"
   ]
  },
  {
   "cell_type": "code",
   "execution_count": 2,
   "metadata": {},
   "outputs": [],
   "source": [
    "from mmcv import Config"
   ]
  },
  {
   "cell_type": "code",
   "execution_count": 5,
   "metadata": {},
   "outputs": [],
   "source": [
    "cfg = Config.fromfile(\"./projects/BEVSegFormer/configs/datasets/train_pipeline.yaml\")"
   ]
  },
  {
   "cell_type": "code",
   "execution_count": 1,
   "metadata": {},
   "outputs": [],
   "source": [
    "import mmsegBEV.datasets.builder"
   ]
  },
  {
   "cell_type": "code",
   "execution_count": 1,
   "metadata": {},
   "outputs": [],
   "source": [
    "class_names = [\n",
    "    'car', 'truck', 'construction_vehicle', 'bus', 'trailer', 'barrier',\n",
    "    'motorcycle', 'bicycle', 'pedestrian', 'traffic_cone'\n",
    "]\n",
    "dataset_type = 'CustomNuScenesDataset'\n",
    "data_root = 'data/nuscenes/'\n",
    "# Input modality for nuScenes dataset, this is consistent with the submission\n",
    "# format which requires the information in input_modality.\n",
    "input_modality = dict(\n",
    "    use_lidar=True,\n",
    "    use_camera=False,\n",
    "    use_radar=False,\n",
    "    use_map=False,\n",
    "    use_external=False)\n",
    "file_client_args = dict(backend='disk')\n",
    "load_dim = use_dim =5\n",
    "# Uncomment the following if use ceph or other file clients.\n",
    "# See https://mmcv.readthedocs.io/en/latest/api.html#mmcv.fileio.FileClient\n",
    "# for more details.\n",
    "# file_client_args = dict(\n",
    "#     backend='petrel',\n",
    "#     path_mapping=dict({\n",
    "#         './data/nuscenes/': 's3://nuscenes/nuscenes/',\n",
    "#         'data/nuscenes/': 's3://nuscenes/nuscenes/'\n",
    "#     }))\n",
    "\n",
    "\n",
    "_dim_ = 256\n",
    "_pos_dim_ = _dim_//2\n",
    "_ffn_dim_ = _dim_*2\n",
    "_num_levels_ = 4\n",
    "bev_h_ = 200\n",
    "bev_w_ = 200\n",
    "queue_length = 4 # each sequence contains `queue_length` frames.\n"
   ]
  },
  {
   "cell_type": "code",
   "execution_count": 2,
   "metadata": {},
   "outputs": [],
   "source": [
    "train=dict(\n",
    "        type=dataset_type,\n",
    "        data_root=data_root,\n",
    "        ann_file=data_root + 'nuscenes_infos_temporal_train.pkl',\n",
    "        pipeline=[],\n",
    "        classes=class_names,\n",
    "        modality=input_modality,\n",
    "        test_mode=False,\n",
    "        use_valid_flag=True,\n",
    "        bev_size=(bev_h_, bev_w_),\n",
    "        queue_length=queue_length,\n",
    "        # we use box_type_3d='LiDAR' in kitti and nuscenes dataset\n",
    "        # and box_type_3d='Depth' in sunrgbd and scannet dataset.\n",
    "        box_type_3d='LiDAR'),"
   ]
  },
  {
   "cell_type": "code",
   "execution_count": null,
   "metadata": {},
   "outputs": [],
   "source": [
    "from .mmsegBEV.datasets.nuscenes_dataset import NuScenesDataset"
   ]
  }
 ],
 "metadata": {
  "kernelspec": {
   "display_name": "base",
   "language": "python",
   "name": "python3"
  },
  "language_info": {
   "codemirror_mode": {
    "name": "ipython",
    "version": 3
   },
   "file_extension": ".py",
   "mimetype": "text/x-python",
   "name": "python",
   "nbconvert_exporter": "python",
   "pygments_lexer": "ipython3",
   "version": "3.8.16"
  },
  "orig_nbformat": 4
 },
 "nbformat": 4,
 "nbformat_minor": 2
}
